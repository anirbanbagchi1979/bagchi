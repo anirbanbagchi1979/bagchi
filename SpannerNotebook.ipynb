{
  "nbformat": 4,
  "nbformat_minor": 0,
  "metadata": {
    "colab": {
      "provenance": [],
      "toc_visible": true,
      "authorship_tag": "ABX9TyOk0sRFt+pqHUlQMU0kR+8T",
      "include_colab_link": true
    },
    "kernelspec": {
      "name": "python3",
      "display_name": "Python 3"
    },
    "language_info": {
      "name": "python"
    }
  },
  "cells": [
    {
      "cell_type": "markdown",
      "metadata": {
        "id": "view-in-github",
        "colab_type": "text"
      },
      "source": [
        "<a href=\"https://colab.research.google.com/github/anirbanbagchi1979/Cummins_Repository-git/blob/master/SpannerNotebook.ipynb\" target=\"_parent\"><img src=\"https://colab.research.google.com/assets/colab-badge.svg\" alt=\"Open In Colab\"/></a>"
      ]
    },
    {
      "cell_type": "code",
      "execution_count": 5,
      "metadata": {
        "colab": {
          "base_uri": "https://localhost:8080/",
          "height": 706
        },
        "id": "d622MQjUrnXw",
        "outputId": "72bd5865-e3f8-460b-f8d5-c6024d96d2e5"
      },
      "outputs": [
        {
          "output_type": "stream",
          "name": "stdout",
          "text": [
            "Collecting google.cloud\n",
            "  Downloading google_cloud-0.34.0-py2.py3-none-any.whl (1.8 kB)\n",
            "Installing collected packages: google.cloud\n",
            "Successfully installed google.cloud-0.34.0\n",
            "Collecting google-cloud-spanner==3.42.0\n",
            "  Downloading google_cloud_spanner-3.42.0-py2.py3-none-any.whl (355 kB)\n",
            "\u001b[2K     \u001b[90m━━━━━━━━━━━━━━━━━━━━━━━━━━━━━━━━━━━━━━━━\u001b[0m \u001b[32m355.5/355.5 kB\u001b[0m \u001b[31m7.1 MB/s\u001b[0m eta \u001b[36m0:00:00\u001b[0m\n",
            "\u001b[?25hRequirement already satisfied: google-api-core[grpc]!=2.0.*,!=2.1.*,!=2.10.*,!=2.2.*,!=2.3.*,!=2.4.*,!=2.5.*,!=2.6.*,!=2.7.*,!=2.8.*,!=2.9.*,<3.0.0dev,>=1.34.0 in /usr/local/lib/python3.10/dist-packages (from google-cloud-spanner==3.42.0) (2.11.1)\n",
            "Requirement already satisfied: google-cloud-core<3.0dev,>=1.4.4 in /usr/local/lib/python3.10/dist-packages (from google-cloud-spanner==3.42.0) (2.3.3)\n",
            "Requirement already satisfied: grpc-google-iam-v1<1.0.0dev,>=0.12.4 in /usr/local/lib/python3.10/dist-packages (from google-cloud-spanner==3.42.0) (0.13.0)\n",
            "Requirement already satisfied: proto-plus<2.0.0dev,>=1.22.0 in /usr/local/lib/python3.10/dist-packages (from google-cloud-spanner==3.42.0) (1.23.0)\n",
            "Requirement already satisfied: sqlparse>=0.4.4 in /usr/local/lib/python3.10/dist-packages (from google-cloud-spanner==3.42.0) (0.4.4)\n",
            "Requirement already satisfied: protobuf!=3.20.0,!=3.20.1,!=4.21.0,!=4.21.1,!=4.21.2,!=4.21.3,!=4.21.4,!=4.21.5,<5.0.0dev,>=3.19.5 in /usr/local/lib/python3.10/dist-packages (from google-cloud-spanner==3.42.0) (3.20.3)\n",
            "Collecting deprecated>=1.2.14 (from google-cloud-spanner==3.42.0)\n",
            "  Downloading Deprecated-1.2.14-py2.py3-none-any.whl (9.6 kB)\n",
            "Collecting grpc-interceptor>=0.15.4 (from google-cloud-spanner==3.42.0)\n",
            "  Downloading grpc_interceptor-0.15.4-py3-none-any.whl (20 kB)\n",
            "Requirement already satisfied: wrapt<2,>=1.10 in /usr/local/lib/python3.10/dist-packages (from deprecated>=1.2.14->google-cloud-spanner==3.42.0) (1.14.1)\n",
            "Requirement already satisfied: googleapis-common-protos<2.0.dev0,>=1.56.2 in /usr/local/lib/python3.10/dist-packages (from google-api-core[grpc]!=2.0.*,!=2.1.*,!=2.10.*,!=2.2.*,!=2.3.*,!=2.4.*,!=2.5.*,!=2.6.*,!=2.7.*,!=2.8.*,!=2.9.*,<3.0.0dev,>=1.34.0->google-cloud-spanner==3.42.0) (1.62.0)\n",
            "Requirement already satisfied: google-auth<3.0.dev0,>=2.14.1 in /usr/local/lib/python3.10/dist-packages (from google-api-core[grpc]!=2.0.*,!=2.1.*,!=2.10.*,!=2.2.*,!=2.3.*,!=2.4.*,!=2.5.*,!=2.6.*,!=2.7.*,!=2.8.*,!=2.9.*,<3.0.0dev,>=1.34.0->google-cloud-spanner==3.42.0) (2.27.0)\n",
            "Requirement already satisfied: requests<3.0.0.dev0,>=2.18.0 in /usr/local/lib/python3.10/dist-packages (from google-api-core[grpc]!=2.0.*,!=2.1.*,!=2.10.*,!=2.2.*,!=2.3.*,!=2.4.*,!=2.5.*,!=2.6.*,!=2.7.*,!=2.8.*,!=2.9.*,<3.0.0dev,>=1.34.0->google-cloud-spanner==3.42.0) (2.31.0)\n",
            "Requirement already satisfied: grpcio<2.0dev,>=1.33.2 in /usr/local/lib/python3.10/dist-packages (from google-api-core[grpc]!=2.0.*,!=2.1.*,!=2.10.*,!=2.2.*,!=2.3.*,!=2.4.*,!=2.5.*,!=2.6.*,!=2.7.*,!=2.8.*,!=2.9.*,<3.0.0dev,>=1.34.0->google-cloud-spanner==3.42.0) (1.60.1)\n",
            "Requirement already satisfied: grpcio-status<2.0.dev0,>=1.33.2 in /usr/local/lib/python3.10/dist-packages (from google-api-core[grpc]!=2.0.*,!=2.1.*,!=2.10.*,!=2.2.*,!=2.3.*,!=2.4.*,!=2.5.*,!=2.6.*,!=2.7.*,!=2.8.*,!=2.9.*,<3.0.0dev,>=1.34.0->google-cloud-spanner==3.42.0) (1.48.2)\n",
            "Requirement already satisfied: cachetools<6.0,>=2.0.0 in /usr/local/lib/python3.10/dist-packages (from google-auth<3.0.dev0,>=2.14.1->google-api-core[grpc]!=2.0.*,!=2.1.*,!=2.10.*,!=2.2.*,!=2.3.*,!=2.4.*,!=2.5.*,!=2.6.*,!=2.7.*,!=2.8.*,!=2.9.*,<3.0.0dev,>=1.34.0->google-cloud-spanner==3.42.0) (5.3.2)\n",
            "Requirement already satisfied: pyasn1-modules>=0.2.1 in /usr/local/lib/python3.10/dist-packages (from google-auth<3.0.dev0,>=2.14.1->google-api-core[grpc]!=2.0.*,!=2.1.*,!=2.10.*,!=2.2.*,!=2.3.*,!=2.4.*,!=2.5.*,!=2.6.*,!=2.7.*,!=2.8.*,!=2.9.*,<3.0.0dev,>=1.34.0->google-cloud-spanner==3.42.0) (0.3.0)\n",
            "Requirement already satisfied: rsa<5,>=3.1.4 in /usr/local/lib/python3.10/dist-packages (from google-auth<3.0.dev0,>=2.14.1->google-api-core[grpc]!=2.0.*,!=2.1.*,!=2.10.*,!=2.2.*,!=2.3.*,!=2.4.*,!=2.5.*,!=2.6.*,!=2.7.*,!=2.8.*,!=2.9.*,<3.0.0dev,>=1.34.0->google-cloud-spanner==3.42.0) (4.9)\n",
            "Requirement already satisfied: charset-normalizer<4,>=2 in /usr/local/lib/python3.10/dist-packages (from requests<3.0.0.dev0,>=2.18.0->google-api-core[grpc]!=2.0.*,!=2.1.*,!=2.10.*,!=2.2.*,!=2.3.*,!=2.4.*,!=2.5.*,!=2.6.*,!=2.7.*,!=2.8.*,!=2.9.*,<3.0.0dev,>=1.34.0->google-cloud-spanner==3.42.0) (3.3.2)\n",
            "Requirement already satisfied: idna<4,>=2.5 in /usr/local/lib/python3.10/dist-packages (from requests<3.0.0.dev0,>=2.18.0->google-api-core[grpc]!=2.0.*,!=2.1.*,!=2.10.*,!=2.2.*,!=2.3.*,!=2.4.*,!=2.5.*,!=2.6.*,!=2.7.*,!=2.8.*,!=2.9.*,<3.0.0dev,>=1.34.0->google-cloud-spanner==3.42.0) (3.6)\n",
            "Requirement already satisfied: urllib3<3,>=1.21.1 in /usr/local/lib/python3.10/dist-packages (from requests<3.0.0.dev0,>=2.18.0->google-api-core[grpc]!=2.0.*,!=2.1.*,!=2.10.*,!=2.2.*,!=2.3.*,!=2.4.*,!=2.5.*,!=2.6.*,!=2.7.*,!=2.8.*,!=2.9.*,<3.0.0dev,>=1.34.0->google-cloud-spanner==3.42.0) (2.0.7)\n",
            "Requirement already satisfied: certifi>=2017.4.17 in /usr/local/lib/python3.10/dist-packages (from requests<3.0.0.dev0,>=2.18.0->google-api-core[grpc]!=2.0.*,!=2.1.*,!=2.10.*,!=2.2.*,!=2.3.*,!=2.4.*,!=2.5.*,!=2.6.*,!=2.7.*,!=2.8.*,!=2.9.*,<3.0.0dev,>=1.34.0->google-cloud-spanner==3.42.0) (2024.2.2)\n",
            "Requirement already satisfied: pyasn1<0.6.0,>=0.4.6 in /usr/local/lib/python3.10/dist-packages (from pyasn1-modules>=0.2.1->google-auth<3.0.dev0,>=2.14.1->google-api-core[grpc]!=2.0.*,!=2.1.*,!=2.10.*,!=2.2.*,!=2.3.*,!=2.4.*,!=2.5.*,!=2.6.*,!=2.7.*,!=2.8.*,!=2.9.*,<3.0.0dev,>=1.34.0->google-cloud-spanner==3.42.0) (0.5.1)\n",
            "Installing collected packages: grpc-interceptor, deprecated, google-cloud-spanner\n",
            "Successfully installed deprecated-1.2.14 google-cloud-spanner-3.42.0 grpc-interceptor-0.15.4\n"
          ]
        },
        {
          "output_type": "display_data",
          "data": {
            "application/vnd.colab-display-data+json": {
              "pip_warning": {
                "packages": [
                  "google"
                ]
              },
              "id": "6cad634b669343119d273629fd0dbb93"
            }
          },
          "metadata": {}
        }
      ],
      "source": [
        "%pip install google-cloud-language>=2.9.1\n",
        "%pip install google.cloud\n",
        "%pip install google-cloud-spanner==3.42.0\n",
        "\n"
      ]
    },
    {
      "cell_type": "markdown",
      "source": [],
      "metadata": {
        "id": "Xu3zfCOhr0-V"
      }
    },
    {
      "cell_type": "code",
      "source": [
        "# @title {display-mode: \"form\"}\n",
        "PROJECT_ID = \"my-alloydb-project-bagchi\"  # @param {type:\"string\"}\n",
        "\n",
        "assert PROJECT_ID, \"❌ Please enter your project ID\"\n",
        "\n",
        "print(f'✔️ PROJECT_ID: \"{PROJECT_ID}\"')"
      ],
      "metadata": {
        "colab": {
          "base_uri": "https://localhost:8080/"
        },
        "id": "wVI1lP5sr1R0",
        "outputId": "64915c57-0c59-41e8-c304-71fb6b52e13e"
      },
      "execution_count": 1,
      "outputs": [
        {
          "output_type": "stream",
          "name": "stdout",
          "text": [
            "✔️ PROJECT_ID: \"my-alloydb-project-bagchi\"\n"
          ]
        }
      ]
    },
    {
      "cell_type": "code",
      "source": [
        "from google.colab import auth\n",
        "\n",
        "auth.authenticate_user(project_id=PROJECT_ID)\n",
        "\n",
        "print(f\"✔️ Authenticated\")"
      ],
      "metadata": {
        "colab": {
          "base_uri": "https://localhost:8080/"
        },
        "id": "-hm0qtoAr18B",
        "outputId": "1a9cf3fe-92c6-43f3-df68-ff50be56c0b3"
      },
      "execution_count": 2,
      "outputs": [
        {
          "output_type": "stream",
          "name": "stdout",
          "text": [
            "✔️ Authenticated\n"
          ]
        }
      ]
    },
    {
      "cell_type": "markdown",
      "source": [],
      "metadata": {
        "id": "SWlazql5tVCc"
      }
    },
    {
      "cell_type": "code",
      "source": [
        "a = \"hello\"\n",
        "b = \"ani\"\n",
        "c = a + b\n",
        "print (c)"
      ],
      "metadata": {
        "colab": {
          "base_uri": "https://localhost:8080/"
        },
        "id": "3iwCtyp47wrS",
        "outputId": "7f9a720b-31ba-4fe5-ebb3-2920906ae0e9"
      },
      "execution_count": 5,
      "outputs": [
        {
          "output_type": "stream",
          "name": "stdout",
          "text": [
            "helloani\n"
          ]
        }
      ]
    },
    {
      "cell_type": "code",
      "source": [
        "from google.cloud import spanner\n",
        "from pandas import DataFrame\n",
        "import pandas as pd\n",
        "\n",
        "spanner_client = spanner.Client()\n",
        "\n",
        "# Get a Cloud Spanner instance by ID.\n",
        "instance = spanner_client.instance(\"test-dvt\")\n",
        "\n",
        "# Get a Cloud Spanner database by ID.\n",
        "database = instance.database(\"cymbal-bikes\")\n",
        "\n",
        "# Execute a simple SQL statement.\n",
        "with database.snapshot() as snapshot:\n",
        "    input = \"I'd like to buy a starter bike for my 3 year old child\"\n",
        "\n",
        "    query = \"\"\"SELECT productName, productDescription, inventoryCount, COSINE_DISTANCE(productDescriptionEmbedding,\n",
        "    (   SELECT embeddings.values FROM ML.PREDICT(MODEL EmbeddingsModel,\n",
        "    (SELECT \\\"\"\"\" + input\n",
        "\n",
        "    query = query + \"\"\"\\\" as content) ) ) ) as distance FROM products WHERE inventoryCount > 0 ORDER BY distance LIMIT 5;\"\"\"\n",
        "    #results = snapshot.execute_sql(\"SELECT categoryId,productId,productName\t,productDescription from products\")\n",
        "    results = snapshot.execute_sql(query)\n",
        "    # Stream in rows\n",
        "    rows = list()\n",
        "    for row in results:\n",
        "        rows.append(row)\n",
        "\n",
        "    # Get column names\n",
        "    cols = [x.name for x in results.fields]\n",
        "\n",
        "    # Convert to pandas dataframe\n",
        "    result_df = pd.DataFrame(rows, columns = cols)\n",
        "\n",
        "\n",
        "print(result_df)\n",
        "\n"
      ],
      "metadata": {
        "colab": {
          "base_uri": "https://localhost:8080/"
        },
        "id": "ElGyFgRHtUmn",
        "outputId": "a47bda66-1d13-4dba-cb3e-8b2d2db92036"
      },
      "execution_count": 9,
      "outputs": [
        {
          "output_type": "stream",
          "name": "stdout",
          "text": [
            "            productName                                 productDescription  \\\n",
            "0         Cymbal Sprout  Let their cycling journey begin with the Cymba...   \n",
            "1      Cymbal Spark Jr.  Light, vibrant, and ready for adventure, the S...   \n",
            "2  Cymbal Helios Helmet  Safety meets style with the Cymbal children's ...   \n",
            "3         Cymbal Breeze  Cruise in style and embrace effortless pedalin...   \n",
            "4  Cymbal Windstar Pump  Flat tires are no match for the Windstar pump....   \n",
            "\n",
            "   inventoryCount  distance  \n",
            "0              10  0.215785  \n",
            "1              34  0.265321  \n",
            "2             100  0.348516  \n",
            "3              72  0.373810  \n",
            "4              36  0.407809  \n"
          ]
        }
      ]
    },
    {
      "cell_type": "code",
      "source": [],
      "metadata": {
        "id": "7Riw0ZhftNWu"
      },
      "execution_count": null,
      "outputs": []
    },
    {
      "cell_type": "code",
      "source": [],
      "metadata": {
        "id": "WCd6hDG57Uzc"
      },
      "execution_count": null,
      "outputs": []
    }
  ]
}